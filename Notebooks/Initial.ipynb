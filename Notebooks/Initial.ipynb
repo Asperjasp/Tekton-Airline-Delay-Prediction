{
 "cells": [
  {
   "cell_type": "code",
   "execution_count": null,
   "id": "94c8e021",
   "metadata": {
    "vscode": {
     "languageId": "plaintext"
    }
   },
   "outputs": [],
   "source": [
    "import kagglehub"
   ]
  }
 ],
 "metadata": {
  "language_info": {
   "name": "python"
  }
 },
 "nbformat": 4,
 "nbformat_minor": 5
}
